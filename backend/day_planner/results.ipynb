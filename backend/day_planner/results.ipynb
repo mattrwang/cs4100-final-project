{
 "cells": [
  {
   "cell_type": "markdown",
   "metadata": {},
   "source": [
    "## Results.ipynb\n",
    "Test the aglorithms on various sets of tasks to assess the strengths and weaknesses of each algorithm."
   ]
  },
  {
   "cell_type": "code",
   "execution_count": null,
   "metadata": {},
   "outputs": [],
   "source": [
    "from input_parser import input_parser\n",
    "from WeekPlan import WeekPlan\n",
    "from hill_descent import *  "
   ]
  },
  {
   "cell_type": "code",
   "execution_count": null,
   "metadata": {},
   "outputs": [],
   "source": [
    "num_searches = 1\n",
    "n_runs = 1\n",
    "iterations = 1"
   ]
  },
  {
   "cell_type": "code",
   "execution_count": null,
   "metadata": {},
   "outputs": [],
   "source": [
    "def get_results(task_file: str, home_addr:str, algo_type: str, n_runs: int, num_searches: int=0, iterations: int=0) -> float:\n",
    "        \"\"\"\n",
    "        Gives the average eneregy for running the given algorithm the given amount of times.\n",
    "\n",
    "        Args:\n",
    "            task_file: file with the list of tasks\n",
    "            home_addr: home address to use for the week plean\n",
    "            algo_type: type of algorithm to run (one of standard, uphill, restart)\n",
    "            n_runs: number of times to run the aglorithm \n",
    "            num_searches: number of searches for hill descent with random uphill\n",
    "            iterations: number of iterations for hill descent with random uphill\n",
    "        Returns:\n",
    "            avg_energy: average energy \n",
    "        \"\"\" \n",
    "        energies = []\n",
    "        tasks = input_parser(task_file)\n",
    "        week_plan = WeekPlan(home_addr, tasks)\n",
    "        plan = week_plan.generate_random_plan(tasks)\n",
    "        print('generated')\n",
    "        \n",
    "        for _ in range(n_runs):\n",
    "            if algo_type == 'standard':\n",
    "                _, new_energy = HILLDESCENT(2, plan, week_plan)\n",
    "            elif algo_type == 'uphill':\n",
    "                _, new_energy = HILLDESCENT_RANDOM_UPHILL(num_searches, iterations, plan, week_plan)\n",
    "            elif algo_type == 'restart':\n",
    "                _, new_energy = HILLDESCENT_RANDOM_RESTART(num_searches, iterations, plan, week_plan)\n",
    "            else:\n",
    "                raise ValueError('Incorrect algo type given.')\n",
    "            print('done')\n",
    "            energies.append(new_energy)\n",
    "            avg_energy = np.mean(energies)\n",
    "            return avg_energy"
   ]
  },
  {
   "cell_type": "markdown",
   "metadata": {},
   "source": [
    "Task Set A (small # tasks, all free)"
   ]
  },
  {
   "cell_type": "code",
   "execution_count": null,
   "metadata": {},
   "outputs": [],
   "source": [
    "# hill descent\n",
    "task_file = 'sample_tasks/task_set_A.csv'\n",
    "home_addr = '1274 Beacon St, Newton, MA, 02468'\n",
    "get_results(task_file, home_addr, 'standard', n_runs, iterations)"
   ]
  },
  {
   "cell_type": "code",
   "execution_count": null,
   "metadata": {},
   "outputs": [],
   "source": [
    "# hill descent (restart)\n",
    "task_file = 'sample_tasks/task_set_A.csv'\n",
    "home_addr = '1274 Beacon St, Newton, MA, 02468'\n",
    "get_results(task_file, home_addr, 'restart', n_runs, iterations)"
   ]
  },
  {
   "cell_type": "code",
   "execution_count": null,
   "metadata": {},
   "outputs": [],
   "source": [
    "# # hill descent (uphill)\n",
    "# task_file = 'sample_tasks/task_set_A.csv'\n",
    "# home_addr = '1274 Beacon St, Newton, MA, 02468'\n",
    "# get_results(task_file, home_addr, 'uphill', n_runs, iterations)"
   ]
  },
  {
   "cell_type": "markdown",
   "metadata": {},
   "source": [
    "Task Set B (large # tasks, all free)"
   ]
  },
  {
   "cell_type": "code",
   "execution_count": null,
   "metadata": {},
   "outputs": [],
   "source": [
    "# hill descent\n",
    "task_file = 'sample_tasks/task_set_B.csv'\n",
    "home_addr = '1274 Beacon St, Newton, MA, 02468'\n",
    "get_results(task_file, home_addr, 'standard', n_runs, iterations)"
   ]
  }
 ],
 "metadata": {
  "kernelspec": {
   "display_name": "Python 3",
   "language": "python",
   "name": "python3"
  },
  "language_info": {
   "codemirror_mode": {
    "name": "ipython",
    "version": 3
   },
   "file_extension": ".py",
   "mimetype": "text/x-python",
   "name": "python",
   "nbconvert_exporter": "python",
   "pygments_lexer": "ipython3",
   "version": "3.12.3"
  }
 },
 "nbformat": 4,
 "nbformat_minor": 2
}
